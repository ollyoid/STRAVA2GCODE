{
 "cells": [
  {
   "cell_type": "code",
   "execution_count": null,
   "metadata": {},
   "outputs": [],
   "source": [
    "import numpy as np\n",
    "import gpxpy\n",
    "import pyproj\n",
    "import folium\n",
    "from branca.colormap import linear\n",
    "import fullcontrol as fc\n",
    "\n"
   ]
  },
  {
   "cell_type": "code",
   "execution_count": null,
   "metadata": {},
   "outputs": [],
   "source": [
    "gpx_path = \"example_rides/Lunch_Ride.gpx\"\n",
    "\n",
    "## Open a gpx file\n",
    "lat_long_points= np.empty((0, 2))\n",
    "elevation = np.empty((0, 1))\n",
    "\n",
    "# Parsing a GPX file\n",
    "with open(gpx_path, 'r') as gpx_file:\n",
    "    gpx = gpxpy.parse(gpx_file)\n",
    "\n",
    "for track in gpx.tracks:\n",
    "    for segment in track.segments:\n",
    "        for point in segment.points:\n",
    "            lat_long_points = np.vstack((lat_long_points, np.array([point.latitude, point.longitude])))\n",
    "            elevation = np.append(elevation, point.elevation)"
   ]
  },
  {
   "cell_type": "code",
   "execution_count": null,
   "metadata": {},
   "outputs": [],
   "source": [
    "## Calculate zone from lat/long\n",
    "\n",
    "centre = np.min(lat_long_points, axis=0) + (np.ptp(lat_long_points, axis=0) / 2)\n",
    "\n",
    "zone = int((centre[1] + 180) / 6) + 1\n",
    "\n",
    "P = pyproj.Proj(proj='utm', zone=zone, ellps='WGS84', preserve_units=True)\n",
    "G = pyproj.Geod(ellps='WGS84')\n",
    "\n",
    "utm_points = np.empty((0, 2))\n",
    "for point in lat_long_points:\n",
    "    utm_points = np.vstack((utm_points, P(point[1], point[0])))\n",
    "\n",
    "lat_long_centre = np.min(lat_long_points, axis=0) + (np.ptp(lat_long_points, axis=0) / 2)\n"
   ]
  },
  {
   "cell_type": "code",
   "execution_count": null,
   "metadata": {},
   "outputs": [],
   "source": [
    "## Create a new list of points that contains one point for every 10m of the points (smoothing things out)\n",
    "distance_sum = 0\n",
    "point_couter = 0\n",
    "utm_position_sum = np.array([0,0], dtype=float)\n",
    "lat_long_position_sum = np.array([0,0], dtype=float)\n",
    "last_pos = utm_points[0].astype(np.float64)\n",
    "\n",
    "lat_long_points_smooth = np.array([lat_long_points[0]], dtype=float)\n",
    "utm_points_smooth = np.array([utm_points[0]], dtype=float)\n",
    "new_elevation = np.array([elevation[0]], dtype=float)\n",
    "\n",
    "for i in range(1, len(utm_points)):\n",
    "    distance = np.sqrt(np.sum((utm_points[i].astype(np.float64) - last_pos)**2))\n",
    "    utm_position_sum += utm_points[i].astype(np.float64)  # Explicitly convert position_sum to float64\n",
    "    lat_long_position_sum += lat_long_points[i].astype(np.float64)  # Explicitly convert position_sum to float64\n",
    "    point_couter += 1\n",
    "    if distance >= 25:\n",
    "        utm_points_smooth = np.vstack((utm_points_smooth, utm_position_sum/point_couter))\n",
    "        lat_long_points_smooth = np.vstack((lat_long_points_smooth, lat_long_position_sum/point_couter))\n",
    "        point_couter = 0\n",
    "        last_pos = utm_points[i].astype(np.float64)\n",
    "        utm_position_sum = np.array([0,0], dtype=float)\n",
    "        lat_long_position_sum = np.array([0,0], dtype=float)\n",
    "        new_elevation = np.append(new_elevation, elevation[i])\n",
    "\n",
    "print(len(utm_points_smooth), len(lat_long_points_smooth), len(new_elevation))\n",
    "\n"
   ]
  },
  {
   "cell_type": "code",
   "execution_count": null,
   "metadata": {},
   "outputs": [],
   "source": [
    "## Create a colormap based on altitude values\n",
    "altitude_colormap = linear.Spectral_11.scale(new_elevation.min(), new_elevation.max())\n",
    "\n",
    "colours = list(map(altitude_colormap, new_elevation))\n",
    "\n",
    "## Create a function to assign color based on altitude\n",
    "def color_function(altitude):\n",
    "    return altitude_colormap(altitude)\n",
    "\n",
    "## Show map using utm coordinates\n",
    "m = folium.Map(location=[lat_long_centre[0], lat_long_centre[1]], zoom_start=11)\n",
    "folium.TileLayer('cartodbpositron').add_to(m)\n",
    "\n",
    "## Add overlay of lines onto map with color based on altitude\n",
    "for i in range(1, len(lat_long_points_smooth)):\n",
    "    folium.PolyLine([lat_long_points_smooth[i-1], lat_long_points_smooth[i]], color=color_function(new_elevation[i-1]), weight=2.5).add_to(m)\n",
    "\n",
    "\n",
    "## Add colorbar to the map\n",
    "altitude_colormap.caption = 'Altitude'\n",
    "m.add_child(altitude_colormap)"
   ]
  },
  {
   "cell_type": "code",
   "execution_count": null,
   "metadata": {},
   "outputs": [],
   "source": [
    "\n",
    "gcode = []\n",
    "\n",
    "layers = 15\n",
    "\n",
    "smoothing = 33\n",
    "wrap = smoothing//2\n",
    "\n",
    "# apply some kind of smoothing to the altitude\n",
    "smooth_elevation = np.concatenate((new_elevation[:-wrap], new_elevation, new_elevation[:wrap]))\n",
    "smooth_elevation = np.convolve(smooth_elevation, np.ones(smoothing)/smoothing, mode='valid')\n",
    "\n",
    "scaled_points = utm_points_smooth/130\n",
    "scaled_points -= np.min(scaled_points, axis=0)\n",
    "scaled_points += np.array([10,50])\n",
    "# scaled_points += np.array([30,30])\n",
    "elevation_factor = ((smooth_elevation-np.min(smooth_elevation))/(np.ptp(smooth_elevation))*0.75)+0.25\n",
    "\n",
    "gcode.append(fc.ManualGcode(text='M601;'))\n",
    "\n",
    "for i in range(layers):\n",
    "    for j, point in enumerate(scaled_points):\n",
    "        gcode.append(fc.ExtrusionGeometry(area_model='stadium', width = 1, height = 0.4*elevation_factor[j]))\n",
    "        gcode.append(fc.Point(x=point[0], y=point[1],z=0.6+(0.4*i)*elevation_factor[j]))\n",
    "    \n",
    "gcode_controls = fc.GcodeControls(printer_name='generic', initialization_data={'print_speed': 20*60}) \n",
    "controls=fc.PlotControls(style='tube')\n",
    "\n",
    "fc.transform(gcode, 'plot', controls)"
   ]
  },
  {
   "cell_type": "code",
   "execution_count": null,
   "metadata": {},
   "outputs": [],
   "source": [
    "lines = fc.transform(gcode, 'gcode', gcode_controls)\n",
    "with open('out.gcode', 'w') as f:\n",
    "    f.write(lines)"
   ]
  },
  {
   "cell_type": "code",
   "execution_count": null,
   "metadata": {},
   "outputs": [],
   "source": []
  }
 ],
 "metadata": {
  "kernelspec": {
   "display_name": "venv",
   "language": "python",
   "name": "python3"
  },
  "language_info": {
   "codemirror_mode": {
    "name": "ipython",
    "version": 3
   },
   "file_extension": ".py",
   "mimetype": "text/x-python",
   "name": "python",
   "nbconvert_exporter": "python",
   "pygments_lexer": "ipython3",
   "version": "3.12.4"
  }
 },
 "nbformat": 4,
 "nbformat_minor": 2
}

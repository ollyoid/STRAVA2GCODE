{
 "cells": [
  {
   "cell_type": "markdown",
   "metadata": {},
   "source": [
    "# gpx2gcode\n",
    "\n",
    "How to 3D print your rides with non-planar 3D printing"
   ]
  },
  {
   "cell_type": "markdown",
   "metadata": {},
   "source": [
    "## Prerequisites\n",
    "Create a python virtual environment\n",
    "```\n",
    "python3 -m venv venv\n",
    "source venv/bin/activate\n",
    "pip install -r requirements.txt\n",
    "```"
   ]
  },
  {
   "cell_type": "code",
   "execution_count": null,
   "metadata": {},
   "outputs": [],
   "source": [
    "import numpy as np\n",
    "import gpxpy\n",
    "import pyproj\n",
    "import folium\n",
    "from branca.colormap import linear\n",
    "import fullcontrol as fc"
   ]
  },
  {
   "cell_type": "markdown",
   "metadata": {},
   "source": [
    "## Getting a GPX of your ride\n",
    "You can download this from the map on an activity page on Strava, or from a Garmin Connect connect activity from the settings icon.\n",
    "\n",
    "Change the gpx_path variable to match the relative location of the gpx file.\n",
    "\n",
    "I've found that activities use the recording device's barometric sensor data to estimate the altitude and this can sometimes be wrong. In garmin connect, you can save an activity as a course and then it will re-calculate the altitude based on map data rather than activity data.\n"
   ]
  },
  {
   "cell_type": "code",
   "execution_count": null,
   "metadata": {},
   "outputs": [],
   "source": [
    "gpx_path = \"example_rides/ubes_bikepacking_2.0.gpx\"\n",
    "\n",
    "## Open a gpx file\n",
    "lat_long_points= np.empty((0, 2))\n",
    "elevation = np.empty((0, 1))\n",
    "\n",
    "# Parsing a GPX file\n",
    "with open(gpx_path, 'r') as gpx_file:\n",
    "    gpx = gpxpy.parse(gpx_file)\n",
    "\n",
    "for track in gpx.tracks:\n",
    "    for segment in track.segments:\n",
    "        for point in segment.points:\n",
    "            lat_long_points = np.vstack((lat_long_points, np.array([point.latitude, point.longitude])))\n",
    "            elevation = np.append(elevation, point.elevation)"
   ]
  },
  {
   "cell_type": "code",
   "execution_count": null,
   "metadata": {},
   "outputs": [],
   "source": [
    "## Calculate zone from lat/long\n",
    "\n",
    "centre = np.min(lat_long_points, axis=0) + (np.ptp(lat_long_points, axis=0) / 2)\n",
    "\n",
    "zone = int((centre[1] + 180) / 6) + 1\n",
    "\n",
    "P = pyproj.Proj(proj='utm', zone=zone, ellps='WGS84', preserve_units=True)\n",
    "G = pyproj.Geod(ellps='WGS84')\n",
    "\n",
    "utm_points = np.empty((0, 2))\n",
    "for point in lat_long_points:\n",
    "    utm_points = np.vstack((utm_points, P(point[1], point[0])))\n",
    "\n",
    "lat_long_centre = np.min(lat_long_points, axis=0) + (np.ptp(lat_long_points, axis=0) / 2)\n"
   ]
  },
  {
   "cell_type": "code",
   "execution_count": null,
   "metadata": {},
   "outputs": [],
   "source": [
    "## Create a new list of points that contains one point for every 10m of the points (smoothing things out to avoid scribbles where stationary)\n",
    "distance_sum = 0\n",
    "point_couter = 0\n",
    "utm_position_sum = np.array([0,0], dtype=float)\n",
    "lat_long_position_sum = np.array([0,0], dtype=float)\n",
    "last_pos = utm_points[0].astype(np.float64)\n",
    "\n",
    "lat_long_points_smooth = np.array([lat_long_points[0]], dtype=float)\n",
    "utm_points_smooth = np.array([utm_points[0]], dtype=float)\n",
    "new_elevation = np.array([elevation[0]], dtype=float)\n",
    "\n",
    "for i in range(1, len(utm_points)):\n",
    "    distance = np.sqrt(np.sum((utm_points[i].astype(np.float64) - last_pos)**2))\n",
    "    utm_position_sum += utm_points[i].astype(np.float64)  # Explicitly convert position_sum to float64\n",
    "    lat_long_position_sum += lat_long_points[i].astype(np.float64)  # Explicitly convert position_sum to float64\n",
    "    point_couter += 1\n",
    "    if distance >= 250:\n",
    "        utm_points_smooth = np.vstack((utm_points_smooth, utm_position_sum/point_couter))\n",
    "        lat_long_points_smooth = np.vstack((lat_long_points_smooth, lat_long_position_sum/point_couter))\n",
    "        point_couter = 0\n",
    "        last_pos = utm_points[i].astype(np.float64)\n",
    "        utm_position_sum = np.array([0,0], dtype=float)\n",
    "        lat_long_position_sum = np.array([0,0], dtype=float)\n",
    "        new_elevation = np.append(new_elevation, elevation[i])\n",
    "\n",
    "\n"
   ]
  },
  {
   "cell_type": "code",
   "execution_count": null,
   "metadata": {},
   "outputs": [],
   "source": [
    "## When elevation is none, just use the last\n",
    "for i in range(1, len(new_elevation)):\n",
    "    if new_elevation[i] is None:\n",
    "        new_elevation[i] = new_elevation[i-1]\n",
    "\n",
    "\n"
   ]
  },
  {
   "cell_type": "code",
   "execution_count": null,
   "metadata": {},
   "outputs": [],
   "source": [
    "## Create a colormap based on altitude values\n",
    "altitude_colormap = linear.Spectral_11.scale(new_elevation.min(), new_elevation.max())\n",
    "\n",
    "colours = list(map(altitude_colormap, new_elevation))\n",
    "\n",
    "## Create a function to assign color based on altitude\n",
    "def color_function(altitude):\n",
    "    return altitude_colormap(altitude)\n",
    "\n",
    "## Show map using utm coordinates\n",
    "m = folium.Map(location=[lat_long_centre[0], lat_long_centre[1]], zoom_start=11)\n",
    "folium.TileLayer('cartodbpositron').add_to(m)\n",
    "\n",
    "## Add overlay of lines onto map with color based on altitude\n",
    "for i in range(1, len(lat_long_points_smooth)):\n",
    "    folium.PolyLine([lat_long_points_smooth[i-1], lat_long_points_smooth[i]], color=color_function(new_elevation[i-1]), weight=2.5).add_to(m)\n",
    "\n",
    "\n",
    "## Add colorbar to the map\n",
    "altitude_colormap.caption = 'Altitude'\n",
    "m.add_child(altitude_colormap)"
   ]
  },
  {
   "cell_type": "markdown",
   "metadata": {},
   "source": [
    "## Generate Toolpaths\n",
    "Here we generate the toolpaths for the 33D printer. We're using the \"generic\" printer profile from fullcontrol, you may want to change this to something else, or define your own.\n",
    "\n",
    "We also are using a max layer height of 0.4mm and layer width of 1mm. This works well with a .8mm nozzle, but fiddle with these variables for best results"
   ]
  },
  {
   "cell_type": "code",
   "execution_count": null,
   "metadata": {},
   "outputs": [],
   "source": [
    "#print the size of the bounding box of utm_points\n",
    "print(np.min(utm_points, axis=0))\n",
    "print(np.max(utm_points, axis=0))\n",
    "print(np.ptp(utm_points, axis=0))"
   ]
  },
  {
   "cell_type": "code",
   "execution_count": null,
   "metadata": {},
   "outputs": [],
   "source": [
    "\n",
    "gcode = []\n",
    "\n",
    "coordinate_scale = 1/1500000\n",
    "\n",
    "altitude_scale = 1/250000\n",
    "printed_altitude_range = np.ptp(new_elevation)*1000*altitude_scale\n",
    "\n",
    "layer_count = 15\n",
    "layer_height = 0.4\n",
    "\n",
    "layer_height_range = printed_altitude_range/layer_count\n",
    "min_layer_height = layer_height-layer_height_range\n",
    "\n",
    "extrusion_multiplier = 0.95\n",
    "\n",
    "\n",
    "smoothing = 33\n",
    "wrap = smoothing//2\n",
    "\n",
    "# apply some kind of smoothing to the altitude\n",
    "smooth_elevation = np.concatenate((new_elevation[:-wrap], new_elevation, new_elevation[:wrap]))\n",
    "smooth_elevation = np.convolve(smooth_elevation, np.ones(smoothing)/smoothing, mode='valid')\n",
    "\n",
    "\n",
    "## Total height  = some base amount + some factor of the altitude\n",
    "\n",
    "\n",
    "\n",
    "scaled_points = utm_points_smooth*coordinate_scale*1000 # convert to mm\n",
    "scaled_points -= np.min(scaled_points, axis=0)\n",
    "scaled_points += np.array([10,10])\n",
    "constant_factor = min_layer_height/layer_height\n",
    "elevation_factor = ((smooth_elevation-np.min(smooth_elevation))/(np.ptp(smooth_elevation))*(1-constant_factor))+constant_factor\n",
    "\n",
    "gcode.append(fc.ManualGcode(text='M601'))\n",
    "\n",
    "\n",
    "\n",
    "for i in range(layer_count):\n",
    "    for j, point in enumerate(scaled_points):\n",
    "        gcode.append(fc.ExtrusionGeometry(area_model='stadium', width = 1*extrusion_multiplier, height = 0.4*elevation_factor[j]))\n",
    "        gcode.append(fc.Point(x=point[0], y=point[1],z=0.6+(0.4*i)*elevation_factor[j]))\n",
    "    \n",
    "gcode_controls = fc.GcodeControls(printer_name='prusa_mini', initialization_data={'print_speed': 1200, 'primer': 'front_lines_then_y',}, ) \n",
    "controls=fc.PlotControls(style='tube')\n",
    "\n",
    "fc.transform(gcode, 'plot', controls)"
   ]
  },
  {
   "cell_type": "markdown",
   "metadata": {},
   "source": [
    "## Export the GCODE\n",
    "Change `out.gcode` to what you want to save the GCODE file as."
   ]
  },
  {
   "cell_type": "code",
   "execution_count": null,
   "metadata": {},
   "outputs": [],
   "source": [
    "lines = fc.transform(gcode, 'gcode', gcode_controls)\n",
    "with open('out.gcode', 'w') as f:\n",
    "    f.write(lines)"
   ]
  },
  {
   "cell_type": "code",
   "execution_count": null,
   "metadata": {},
   "outputs": [],
   "source": []
  }
 ],
 "metadata": {
  "kernelspec": {
   "display_name": "venv",
   "language": "python",
   "name": "python3"
  },
  "language_info": {
   "codemirror_mode": {
    "name": "ipython",
    "version": 3
   },
   "file_extension": ".py",
   "mimetype": "text/x-python",
   "name": "python",
   "nbconvert_exporter": "python",
   "pygments_lexer": "ipython3",
   "version": "3.12.4"
  }
 },
 "nbformat": 4,
 "nbformat_minor": 2
}
